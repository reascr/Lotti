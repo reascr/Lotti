{
 "cells": [
  {
   "cell_type": "code",
   "execution_count": 116,
   "id": "66300267",
   "metadata": {},
   "outputs": [],
   "source": [
    "import pandas as pd\n",
    "import numpy as np\n",
    "\n",
    "df = pd.read_csv(\"/Users/rea/Documents/ProgrammLotti/Stundentabelle.csv\",sep=\";\")\n"
   ]
  },
  {
   "cell_type": "code",
   "execution_count": 118,
   "id": "7add75fe",
   "metadata": {},
   "outputs": [],
   "source": [
    "Schüler = [x.strip() for x in df[\"Schüler\"].unique()]\n",
    "Lehrer = [x.strip() for x in df[\"Lehrer\"].unique()]\n",
    "Schüler_Min_Betrag = 19.50/60\n",
    "Lehrer_Min_Betrag = 10/60 \n",
    "# Schüler in neuen DataFrame\n",
    "Minuten_ges = list()\n",
    "Betrag_ges = list()\n",
    "\n",
    "Minuten_ges_l = list()\n",
    "Betrag_ges_l = list()\n",
    "\n",
    "# Minuten gesamt\n",
    "for s in Schüler:\n",
    "    Min_ges = sum(df[\"Dauer_min\"].where(df[\"Schüler\"] == s.strip()).dropna())\n",
    "    Minuten_ges.append(Min_ges)\n",
    "    Bet_ges = Min_ges * Schüler_Min_Betrag\n",
    "    Betrag_ges.append(Bet_ges)\n",
    "\n",
    "\n",
    "# neuer Dataframe\n",
    "Schüler_df = pd.DataFrame(Schüler, columns=[\"Schüler\"])\n",
    "Schüler_df[\"Minuten_ges\"] = Minuten_ges\n",
    "Schüler_df[\"Betrag_ges\"] = Betrag_ges\n",
    "\n",
    "Schüler_df = Schüler_df.set_index(\"Schüler\")\n",
    "\n",
    "# Schüler_df in csv_Datei, automatische Erstellung in Zielordner\n",
    "\n",
    "Schüler_df.to_csv(\"Schüler.csv\")\n",
    "\n",
    "# Lehrer in neuen DataFrame\n",
    "for l in Lehrer:\n",
    "    Min_ges = sum(df[\"Dauer_min\"].where(df[\"Lehrer\"] == l.strip()).dropna())\n",
    "    Minuten_ges_l.append(Min_ges)\n",
    "    Bet_ges = Min_ges * Schüler_Min_Betrag\n",
    "    Betrag_ges_l.append(Bet_ges)\n",
    "\n",
    "\n",
    "# neuer Dataframe\n",
    "Lehrer_df = pd.DataFrame(Lehrer, columns=[\"Lehrer\"])\n",
    "Lehrer_df[\"Minuten_ges\"] = Minuten_ges_l\n",
    "Lehrer_df[\"Betrag_ges\"] = Betrag_ges_l\n",
    "Lehrer_df =Lehrer_df.set_index(\"Lehrer\")\n",
    "\n",
    "# Lehrer_df in csv_Datei, automatische Erstellung in Zielordner\n",
    "Lehrer_df.to_csv(\"Lehrer.csv\")\n"
   ]
  },
  {
   "cell_type": "code",
   "execution_count": null,
   "id": "3744de65",
   "metadata": {},
   "outputs": [],
   "source": []
  }
 ],
 "metadata": {
  "kernelspec": {
   "display_name": "Python 3",
   "language": "python",
   "name": "python3"
  },
  "language_info": {
   "codemirror_mode": {
    "name": "ipython",
    "version": 3
   },
   "file_extension": ".py",
   "mimetype": "text/x-python",
   "name": "python",
   "nbconvert_exporter": "python",
   "pygments_lexer": "ipython3",
   "version": "3.8.8"
  }
 },
 "nbformat": 4,
 "nbformat_minor": 5
}
